{
  "nbformat": 4,
  "nbformat_minor": 0,
  "metadata": {
    "kernelspec": {
      "name": "python3",
      "display_name": "Python 3"
    },
    "language_info": {
      "codemirror_mode": {
        "name": "ipython",
        "version": 3
      },
      "file_extension": ".py",
      "mimetype": "text/x-python",
      "name": "python",
      "nbconvert_exporter": "python",
      "pygments_lexer": "ipython3",
      "version": "3.6.4"
    },
    "colab": {
      "name": "Character_Level_RNN_Exercise.ipynb",
      "provenance": []
    },
    "accelerator": "GPU"
  },
  "cells": [
    {
      "cell_type": "markdown",
      "metadata": {
        "id": "9jQGCUnhHS20",
        "colab_type": "text"
      },
      "source": [
        "# Character-Level LSTM in PyTorch\n",
        "\n",
        "In this notebook, I'll construct a character-level LSTM with PyTorch. The network will train character by character on some text, then generate new text character by character. As an example, I will train on Anna Karenina. **This model will be able to generate new text based on the text from the book!**\n",
        "\n",
        "This network is based off of Andrej Karpathy's [post on RNNs](http://karpathy.github.io/2015/05/21/rnn-effectiveness/) and [implementation in Torch](https://github.com/karpathy/char-rnn). Below is the general architecture of the character-wise RNN.\n",
        "\n",
        "<img src=\"https://github.com/yashyasviagarwal/deep-learning-v2-pytorch/blob/master/recurrent-neural-networks/char-rnn/assets/charseq.jpeg?raw=1\" width=\"500\">"
      ]
    },
    {
      "cell_type": "markdown",
      "metadata": {
        "id": "UUZrZH8iHS24",
        "colab_type": "text"
      },
      "source": [
        "First let's load in our required resources for data loading and model creation."
      ]
    },
    {
      "cell_type": "code",
      "metadata": {
        "id": "tdlXEo8KHS27",
        "colab_type": "code",
        "colab": {}
      },
      "source": [
        "import numpy as np\n",
        "import torch\n",
        "from torch import nn\n",
        "import torch.nn.functional as F"
      ],
      "execution_count": 0,
      "outputs": []
    },
    {
      "cell_type": "markdown",
      "metadata": {
        "id": "s7_Z4kO8HS3A",
        "colab_type": "text"
      },
      "source": [
        "## Load in Data\n",
        "\n",
        "Then, we'll load the Anna Karenina text file and convert it into integers for our network to use. "
      ]
    },
    {
      "cell_type": "code",
      "metadata": {
        "id": "kqT7DIxfHS3B",
        "colab_type": "code",
        "colab": {}
      },
      "source": [
        "# open text file and read in data as `text`\n",
        "with open('data/anna.txt', 'r') as f:\n",
        "    text = f.read()"
      ],
      "execution_count": 0,
      "outputs": []
    },
    {
      "cell_type": "markdown",
      "metadata": {
        "id": "qZMebdaLHS3H",
        "colab_type": "text"
      },
      "source": [
        "Let's check out the first 100 characters, make sure everything is peachy. According to the [American Book Review](http://americanbookreview.org/100bestlines.asp), this is the 6th best first line of a book ever."
      ]
    },
    {
      "cell_type": "code",
      "metadata": {
        "id": "nWj281A1HS3J",
        "colab_type": "code",
        "colab": {
          "base_uri": "https://localhost:8080/",
          "height": 34
        },
        "outputId": "8a237d85-f9c9-479d-ecf8-20fecaee1ea3"
      },
      "source": [
        "text[:100]"
      ],
      "execution_count": 42,
      "outputs": [
        {
          "output_type": "execute_result",
          "data": {
            "text/plain": [
              "'Chapter 1\\n\\n\\nHappy families are all alike; every unhappy family is unhappy in its own\\nway.\\n\\nEverythin'"
            ]
          },
          "metadata": {
            "tags": []
          },
          "execution_count": 42
        }
      ]
    },
    {
      "cell_type": "markdown",
      "metadata": {
        "id": "zKNFkK4cHS3Q",
        "colab_type": "text"
      },
      "source": [
        "### Tokenization\n",
        "\n",
        "In the cells, below, I'm creating a couple **dictionaries** to convert the characters to and from integers. Encoding the characters as integers makes it easier to use as input in the network."
      ]
    },
    {
      "cell_type": "code",
      "metadata": {
        "id": "-ofQjQfIHS3R",
        "colab_type": "code",
        "colab": {}
      },
      "source": [
        "# encode the text and map each character to an integer and vice versa\n",
        "\n",
        "# we create two dictionaries:\n",
        "# 1. int2char, which maps integers to characters\n",
        "# 2. char2int, which maps characters to unique integers\n",
        "chars = tuple(set(text))\n",
        "int2char = dict(enumerate(chars))\n",
        "char2int = {ch: ii for ii, ch in int2char.items()}\n",
        "\n",
        "# encode the text\n",
        "encoded = np.array([char2int[ch] for ch in text])"
      ],
      "execution_count": 0,
      "outputs": []
    },
    {
      "cell_type": "markdown",
      "metadata": {
        "id": "FzVTcboTHS3b",
        "colab_type": "text"
      },
      "source": [
        "And we can see those same characters from above, encoded as integers."
      ]
    },
    {
      "cell_type": "code",
      "metadata": {
        "id": "zxbO10zjHS3j",
        "colab_type": "code",
        "colab": {
          "base_uri": "https://localhost:8080/",
          "height": 119
        },
        "outputId": "dd639b64-97bd-4f4a-f0dd-754a7e940474"
      },
      "source": [
        "encoded[:100]"
      ],
      "execution_count": 44,
      "outputs": [
        {
          "output_type": "execute_result",
          "data": {
            "text/plain": [
              "array([13, 63, 74, 23, 33, 56, 75, 68, 48, 39, 39, 39,  8, 74, 23, 23, 26,\n",
              "       68, 27, 74, 62, 44, 25, 44, 56, 79, 68, 74, 75, 56, 68, 74, 25, 25,\n",
              "       68, 74, 25, 44, 40, 56,  0, 68, 56, 28, 56, 75, 26, 68, 67, 14, 63,\n",
              "       74, 23, 23, 26, 68, 27, 74, 62, 44, 25, 26, 68, 44, 79, 68, 67, 14,\n",
              "       63, 74, 23, 23, 26, 68, 44, 14, 68, 44, 33, 79, 68, 29, 38, 14, 39,\n",
              "       38, 74, 26, 82, 39, 39, 18, 28, 56, 75, 26, 33, 63, 44, 14])"
            ]
          },
          "metadata": {
            "tags": []
          },
          "execution_count": 44
        }
      ]
    },
    {
      "cell_type": "markdown",
      "metadata": {
        "id": "sFpX2WdFHS3q",
        "colab_type": "text"
      },
      "source": [
        "## Pre-processing the data\n",
        "\n",
        "As you can see in our char-RNN image above, our LSTM expects an input that is **one-hot encoded** meaning that each character is converted into an integer (via our created dictionary) and *then* converted into a column vector where only it's corresponding integer index will have the value of 1 and the rest of the vector will be filled with 0's. Since we're one-hot encoding the data, let's make a function to do that!\n"
      ]
    },
    {
      "cell_type": "code",
      "metadata": {
        "id": "7Yki4bzNHS3r",
        "colab_type": "code",
        "colab": {}
      },
      "source": [
        "def one_hot_encode(arr, n_labels):\n",
        "    \n",
        "    # Initialize the the encoded array\n",
        "    one_hot = np.zeros((arr.size, n_labels), dtype=np.float32)\n",
        "    \n",
        "    # Fill the appropriate elements with ones\n",
        "    one_hot[np.arange(one_hot.shape[0]), arr.flatten()] = 1.\n",
        "    \n",
        "    # Finally reshape it to get back to the original array\n",
        "    one_hot = one_hot.reshape((*arr.shape, n_labels))\n",
        "    \n",
        "    return one_hot"
      ],
      "execution_count": 0,
      "outputs": []
    },
    {
      "cell_type": "code",
      "metadata": {
        "id": "IMjZdHw7HS3u",
        "colab_type": "code",
        "colab": {
          "base_uri": "https://localhost:8080/",
          "height": 68
        },
        "outputId": "3446f39f-e08a-4c7a-e392-91c973290274"
      },
      "source": [
        "# check that the function works as expected\n",
        "test_seq = np.array([[3, 5, 1]])\n",
        "one_hot = one_hot_encode(test_seq, 8)\n",
        "\n",
        "print(one_hot)"
      ],
      "execution_count": 46,
      "outputs": [
        {
          "output_type": "stream",
          "text": [
            "[[[0. 0. 0. 1. 0. 0. 0. 0.]\n",
            "  [0. 0. 0. 0. 0. 1. 0. 0.]\n",
            "  [0. 1. 0. 0. 0. 0. 0. 0.]]]\n"
          ],
          "name": "stdout"
        }
      ]
    },
    {
      "cell_type": "markdown",
      "metadata": {
        "id": "qcsirJYpHS36",
        "colab_type": "text"
      },
      "source": [
        "## Making training mini-batches\n",
        "\n",
        "\n",
        "To train on this data, we also want to create mini-batches for training. Remember that we want our batches to be multiple sequences of some desired number of sequence steps. Considering a simple example, our batches would look like this:\n",
        "\n",
        "<img src=\"https://github.com/yashyasviagarwal/deep-learning-v2-pytorch/blob/master/recurrent-neural-networks/char-rnn/assets/sequence_batching@1x.png?raw=1\" width=500px>\n",
        "\n",
        "\n",
        "<br>\n",
        "\n",
        "In this example, we'll take the encoded characters (passed in as the `arr` parameter) and split them into multiple sequences, given by `batch_size`. Each of our sequences will be `seq_length` long.\n",
        "\n",
        "### Creating Batches\n",
        "\n",
        "**1. The first thing we need to do is discard some of the text so we only have completely full mini-batches. **\n",
        "\n",
        "Each batch contains $N \\times M$ characters, where $N$ is the batch size (the number of sequences in a batch) and $M$ is the seq_length or number of time steps in a sequence. Then, to get the total number of batches, $K$, that we can make from the array `arr`, you divide the length of `arr` by the number of characters per batch. Once you know the number of batches, you can get the total number of characters to keep from `arr`, $N * M * K$.\n",
        "\n",
        "**2. After that, we need to split `arr` into $N$ batches. ** \n",
        "\n",
        "You can do this using `arr.reshape(size)` where `size` is a tuple containing the dimensions sizes of the reshaped array. We know we want $N$ sequences in a batch, so let's make that the size of the first dimension. For the second dimension, you can use `-1` as a placeholder in the size, it'll fill up the array with the appropriate data for you. After this, you should have an array that is $N \\times (M * K)$.\n",
        "\n",
        "**3. Now that we have this array, we can iterate through it to get our mini-batches. **\n",
        "\n",
        "The idea is each batch is a $N \\times M$ window on the $N \\times (M * K)$ array. For each subsequent batch, the window moves over by `seq_length`. We also want to create both the input and target arrays. Remember that the targets are just the inputs shifted over by one character. The way I like to do this window is use `range` to take steps of size `n_steps` from $0$ to `arr.shape[1]`, the total number of tokens in each sequence. That way, the integers you get from `range` always point to the start of a batch, and each window is `seq_length` wide.\n",
        "\n",
        "> **TODO:** Write the code for creating batches in the function below. The exercises in this notebook _will not be easy_. I've provided a notebook with solutions alongside this notebook. If you get stuck, checkout the solutions. The most important thing is that you don't copy and paste the code into here, **type out the solution code yourself.**"
      ]
    },
    {
      "cell_type": "code",
      "metadata": {
        "id": "iLMcrKe8HS38",
        "colab_type": "code",
        "colab": {}
      },
      "source": [
        "def get_batches(arr, batch_size, seq_length):\n",
        "    '''Create a generator that returns batches of size\n",
        "       batch_size x seq_length from arr.\n",
        "       \n",
        "       Arguments\n",
        "       ---------\n",
        "       arr: Array you want to make batches from\n",
        "       batch_size: Batch size, the number of sequences per batch\n",
        "       seq_length: Number of encoded chars in a sequence\n",
        "    '''\n",
        "    \n",
        "    batch_size_total = batch_size * seq_length\n",
        "    # total number of batches we can make\n",
        "    n_batches = len(arr)//batch_size_total\n",
        "    \n",
        "    # Keep only enough characters to make full batches\n",
        "    arr = arr[:n_batches * batch_size_total]\n",
        "    # Reshape into batch_size rows\n",
        "    arr = arr.reshape((batch_size, -1))\n",
        "    \n",
        "    # iterate through the array, one sequence at a time\n",
        "    for n in range(0, arr.shape[1], seq_length):\n",
        "        # The features\n",
        "        x = arr[:, n:n+seq_length]\n",
        "        # The targets, shifted by one\n",
        "        y = np.zeros_like(x)\n",
        "        try:\n",
        "            y[:, :-1], y[:, -1] = x[:, 1:], arr[:, n+seq_length]\n",
        "        except IndexError:\n",
        "            y[:, :-1], y[:, -1] = x[:, 1:], arr[:, 0]\n",
        "        yield x, y"
      ],
      "execution_count": 0,
      "outputs": []
    },
    {
      "cell_type": "markdown",
      "metadata": {
        "id": "M7uEEXjqHS4J",
        "colab_type": "text"
      },
      "source": [
        "### Test Your Implementation\n",
        "\n",
        "Now I'll make some data sets and we can check out what's going on as we batch data. Here, as an example, I'm going to use a batch size of 8 and 50 sequence steps."
      ]
    },
    {
      "cell_type": "code",
      "metadata": {
        "id": "Vzuh06hdHS4K",
        "colab_type": "code",
        "colab": {}
      },
      "source": [
        "batches = get_batches(encoded, 8, 50)\n",
        "x, y = next(batches)"
      ],
      "execution_count": 0,
      "outputs": []
    },
    {
      "cell_type": "code",
      "metadata": {
        "id": "8ZZhRxMvHS4T",
        "colab_type": "code",
        "colab": {
          "base_uri": "https://localhost:8080/",
          "height": 340
        },
        "outputId": "c8e16a30-1420-4f7c-fba8-108abd5e722a"
      },
      "source": [
        "# printing out the first 10 items in a sequence\n",
        "print('x\\n', x[:10, :10])\n",
        "print('\\ny\\n', y[:10, :10])"
      ],
      "execution_count": 49,
      "outputs": [
        {
          "output_type": "stream",
          "text": [
            "x\n",
            " [[13 63 74 23 33 56 75 68 48 39]\n",
            " [79 29 14 68 33 63 74 33 68 74]\n",
            " [56 14 16 68 29 75 68 74 68 27]\n",
            " [79 68 33 63 56 68 57 63 44 56]\n",
            " [68 79 74 38 68 63 56 75 68 33]\n",
            " [57 67 79 79 44 29 14 68 74 14]\n",
            " [68 66 14 14 74 68 63 74 16 68]\n",
            " [ 7 70 25 29 14 79 40 26 82 68]]\n",
            "\n",
            "y\n",
            " [[63 74 23 33 56 75 68 48 39 39]\n",
            " [29 14 68 33 63 74 33 68 74 33]\n",
            " [14 16 68 29 75 68 74 68 27 29]\n",
            " [68 33 63 56 68 57 63 44 56 27]\n",
            " [79 74 38 68 63 56 75 68 33 56]\n",
            " [67 79 79 44 29 14 68 74 14 16]\n",
            " [66 14 14 74 68 63 74 16 68 79]\n",
            " [70 25 29 14 79 40 26 82 68 53]]\n"
          ],
          "name": "stdout"
        }
      ]
    },
    {
      "cell_type": "markdown",
      "metadata": {
        "id": "-1fJA1UQHS4c",
        "colab_type": "text"
      },
      "source": [
        "If you implemented `get_batches` correctly, the above output should look something like \n",
        "```\n",
        "x\n",
        " [[25  8 60 11 45 27 28 73  1  2]\n",
        " [17  7 20 73 45  8 60 45 73 60]\n",
        " [27 20 80 73  7 28 73 60 73 65]\n",
        " [17 73 45  8 27 73 66  8 46 27]\n",
        " [73 17 60 12 73  8 27 28 73 45]\n",
        " [66 64 17 17 46  7 20 73 60 20]\n",
        " [73 76 20 20 60 73  8 60 80 73]\n",
        " [47 35 43  7 20 17 24 50 37 73]]\n",
        "\n",
        "y\n",
        " [[ 8 60 11 45 27 28 73  1  2  2]\n",
        " [ 7 20 73 45  8 60 45 73 60 45]\n",
        " [20 80 73  7 28 73 60 73 65  7]\n",
        " [73 45  8 27 73 66  8 46 27 65]\n",
        " [17 60 12 73  8 27 28 73 45 27]\n",
        " [64 17 17 46  7 20 73 60 20 80]\n",
        " [76 20 20 60 73  8 60 80 73 17]\n",
        " [35 43  7 20 17 24 50 37 73 36]]\n",
        " ```\n",
        " although the exact numbers may be different. Check to make sure the data is shifted over one step for `y`."
      ]
    },
    {
      "cell_type": "markdown",
      "metadata": {
        "id": "4FZmxx7AHS4d",
        "colab_type": "text"
      },
      "source": [
        "---\n",
        "## Defining the network with PyTorch\n",
        "\n",
        "Below is where you'll define the network.\n",
        "\n",
        "<img src=\"https://github.com/yashyasviagarwal/deep-learning-v2-pytorch/blob/master/recurrent-neural-networks/char-rnn/assets/charRNN.png?raw=1\" width=500px>\n",
        "\n",
        "Next, you'll use PyTorch to define the architecture of the network. We start by defining the layers and operations we want. Then, define a method for the forward pass. You've also been given a method for predicting characters."
      ]
    },
    {
      "cell_type": "markdown",
      "metadata": {
        "id": "40OqGqFtHS4e",
        "colab_type": "text"
      },
      "source": [
        "### Model Structure\n",
        "\n",
        "In `__init__` the suggested structure is as follows:\n",
        "* Create and store the necessary dictionaries (this has been done for you)\n",
        "* Define an LSTM layer that takes as params: an input size (the number of characters), a hidden layer size `n_hidden`, a number of layers `n_layers`, a dropout probability `drop_prob`, and a batch_first boolean (True, since we are batching)\n",
        "* Define a dropout layer with `drop_prob`\n",
        "* Define a fully-connected layer with params: input size `n_hidden` and output size (the number of characters)\n",
        "* Finally, initialize the weights (again, this has been given)\n",
        "\n",
        "Note that some parameters have been named and given in the `__init__` function, and we use them and store them by doing something like `self.drop_prob = drop_prob`."
      ]
    },
    {
      "cell_type": "markdown",
      "metadata": {
        "id": "6U1JGmoyHS4f",
        "colab_type": "text"
      },
      "source": [
        "---\n",
        "### LSTM Inputs/Outputs\n",
        "\n",
        "You can create a basic [LSTM layer](https://pytorch.org/docs/stable/nn.html#lstm) as follows\n",
        "\n",
        "```python\n",
        "self.lstm = nn.LSTM(input_size, n_hidden, n_layers, \n",
        "                            dropout=drop_prob, batch_first=True)\n",
        "```\n",
        "\n",
        "where `input_size` is the number of characters this cell expects to see as sequential input, and `n_hidden` is the number of units in the hidden layers in the cell. And we can add dropout by adding a dropout parameter with a specified probability; this will automatically add dropout to the inputs or outputs. Finally, in the `forward` function, we can stack up the LSTM cells into layers using `.view`. With this, you pass in a list of cells and it will send the output of one cell into the next cell.\n",
        "\n",
        "We also need to create an initial hidden state of all zeros. This is done like so\n",
        "\n",
        "```python\n",
        "self.init_hidden()\n",
        "```"
      ]
    },
    {
      "cell_type": "code",
      "metadata": {
        "id": "lxUnfTOiHS4g",
        "colab_type": "code",
        "colab": {
          "base_uri": "https://localhost:8080/",
          "height": 34
        },
        "outputId": "970806a9-d9f3-45c9-f48e-32e43163f1c7"
      },
      "source": [
        "# check if GPU is available\n",
        "train_on_gpu = torch.cuda.is_available()\n",
        "if(train_on_gpu):\n",
        "    print('Training on GPU!')\n",
        "else: \n",
        "    print('No GPU available, training on CPU; consider making n_epochs very small.')"
      ],
      "execution_count": 34,
      "outputs": [
        {
          "output_type": "stream",
          "text": [
            "Training on GPU!\n"
          ],
          "name": "stdout"
        }
      ]
    },
    {
      "cell_type": "code",
      "metadata": {
        "id": "tI53htQSHS4m",
        "colab_type": "code",
        "colab": {}
      },
      "source": [
        "class CharRNN(nn.Module):\n",
        "    \n",
        "    def __init__(self, tokens, n_hidden=256, n_layers=2,\n",
        "                               drop_prob=0.5, lr=0.001):\n",
        "        super().__init__()\n",
        "        self.drop_prob = drop_prob\n",
        "        self.n_layers = n_layers\n",
        "        self.n_hidden = n_hidden\n",
        "        self.lr = lr\n",
        "        \n",
        "        # creating character dictionaries\n",
        "        self.chars = tokens\n",
        "        self.int2char = dict(enumerate(self.chars))\n",
        "        self.char2int = {ch: ii for ii, ch in self.int2char.items()}\n",
        "        \n",
        "        ## TODO: define the layers of the model\n",
        "        self.lstm = nn.LSTM(len(self.chars), n_hidden, n_layers, \n",
        "                            dropout=drop_prob, batch_first=True)\n",
        "        self.dropout = nn.Dropout(drop_prob)\n",
        "\n",
        "        self.fc = nn.Linear(n_hidden,len(self.chars))\n",
        "      \n",
        "    \n",
        "    def forward(self, x, hidden):\n",
        "        ''' Forward pass through the network. \n",
        "            These inputs are x, and the hidden/cell state `hidden`. '''\n",
        "                \n",
        "        ## TODO: Get the outputs and the new hidden state from the lstm\n",
        "        out, hidden = self.lstm(x, hidden)\n",
        "        out = self.dropout(out)\n",
        "        out = out.contiguous().view(-1, self.n_hidden)\n",
        "        out = self.fc(out)\n",
        "        # return the final output and the hidden state\n",
        "        return out, hidden\n",
        "    \n",
        "    \n",
        "    def init_hidden(self, batch_size):\n",
        "        ''' Initializes hidden state '''\n",
        "        # Create two new tensors with sizes n_layers x batch_size x n_hidden,\n",
        "        # initialized to zero, for hidden state and cell state of LSTM\n",
        "        weight = next(self.parameters()).data\n",
        "        \n",
        "        if (train_on_gpu):\n",
        "            hidden = (weight.new(self.n_layers, batch_size, self.n_hidden).zero_().cuda(),\n",
        "                  weight.new(self.n_layers, batch_size, self.n_hidden).zero_().cuda())\n",
        "        else:\n",
        "            hidden = (weight.new(self.n_layers, batch_size, self.n_hidden).zero_(),\n",
        "                      weight.new(self.n_layers, batch_size, self.n_hidden).zero_())\n",
        "        \n",
        "        return hidden\n",
        "        "
      ],
      "execution_count": 0,
      "outputs": []
    },
    {
      "cell_type": "markdown",
      "metadata": {
        "id": "jTF0LbPsHS4q",
        "colab_type": "text"
      },
      "source": [
        "## Time to train\n",
        "\n",
        "The train function gives us the ability to set the number of epochs, the learning rate, and other parameters.\n",
        "\n",
        "Below we're using an Adam optimizer and cross entropy loss since we are looking at character class scores as output. We calculate the loss and perform backpropagation, as usual!\n",
        "\n",
        "A couple of details about training: \n",
        ">* Within the batch loop, we detach the hidden state from its history; this time setting it equal to a new *tuple* variable because an LSTM has a hidden state that is a tuple of the hidden and cell states.\n",
        "* We use [`clip_grad_norm_`](https://pytorch.org/docs/stable/_modules/torch/nn/utils/clip_grad.html) to help prevent exploding gradients."
      ]
    },
    {
      "cell_type": "code",
      "metadata": {
        "id": "ccX4ee3eHS4r",
        "colab_type": "code",
        "colab": {}
      },
      "source": [
        "def train(net, data, epochs=10, batch_size=10, seq_length=50, lr=0.001, clip=5, val_frac=0.1, print_every=10):\n",
        "    ''' Training a network \n",
        "    \n",
        "        Arguments\n",
        "        ---------\n",
        "        \n",
        "        net: CharRNN network\n",
        "        data: text data to train the network\n",
        "        epochs: Number of epochs to train\n",
        "        batch_size: Number of mini-sequences per mini-batch, aka batch size\n",
        "        seq_length: Number of character steps per mini-batch\n",
        "        lr: learning rate\n",
        "        clip: gradient clipping\n",
        "        val_frac: Fraction of data to hold out for validation\n",
        "        print_every: Number of steps for printing training and validation loss\n",
        "    \n",
        "    '''\n",
        "    net.train()\n",
        "    \n",
        "    opt = torch.optim.Adam(net.parameters(), lr=lr)\n",
        "    criterion = nn.CrossEntropyLoss()\n",
        "    \n",
        "    # create training and validation data\n",
        "    val_idx = int(len(data)*(1-val_frac))\n",
        "    data, val_data = data[:val_idx], data[val_idx:]\n",
        "    \n",
        "    if(train_on_gpu):\n",
        "        net.cuda()\n",
        "    \n",
        "    counter = 0\n",
        "    n_chars = len(net.chars)\n",
        "    for e in range(epochs):\n",
        "        # initialize hidden state\n",
        "        h = net.init_hidden(batch_size)\n",
        "        \n",
        "        for x, y in get_batches(data, batch_size, seq_length):\n",
        "            counter += 1\n",
        "            \n",
        "            # One-hot encode our data and make them Torch tensors\n",
        "            x = one_hot_encode(x, n_chars)\n",
        "            inputs, targets = torch.from_numpy(x), torch.from_numpy(y)\n",
        "            \n",
        "            if(train_on_gpu):\n",
        "                inputs, targets = inputs.cuda(), targets.cuda()\n",
        "\n",
        "            # Creating new variables for the hidden state, otherwise\n",
        "            # we'd backprop through the entire training history\n",
        "            h = tuple([each.data for each in h])\n",
        "\n",
        "            # zero accumulated gradients\n",
        "            net.zero_grad()\n",
        "            \n",
        "            # get the output from the model\n",
        "            output, h = net(inputs, h)\n",
        "            \n",
        "            # calculate the loss and perform backprop\n",
        "            loss = criterion(output, targets.view(batch_size*seq_length).long())\n",
        "            loss.backward()\n",
        "            # `clip_grad_norm` helps prevent the exploding gradient problem in RNNs / LSTMs.\n",
        "            nn.utils.clip_grad_norm_(net.parameters(), clip)\n",
        "            opt.step()\n",
        "            \n",
        "            # loss stats\n",
        "            if counter % print_every == 0:\n",
        "                # Get validation loss\n",
        "                val_h = net.init_hidden(batch_size)\n",
        "                val_losses = []\n",
        "                net.eval()\n",
        "                for x, y in get_batches(val_data, batch_size, seq_length):\n",
        "                    # One-hot encode our data and make them Torch tensors\n",
        "                    x = one_hot_encode(x, n_chars)\n",
        "                    x, y = torch.from_numpy(x), torch.from_numpy(y)\n",
        "                    \n",
        "                    # Creating new variables for the hidden state, otherwise\n",
        "                    # we'd backprop through the entire training history\n",
        "                    val_h = tuple([each.data for each in val_h])\n",
        "                    \n",
        "                    inputs, targets = x, y\n",
        "                    if(train_on_gpu):\n",
        "                        inputs, targets = inputs.cuda(), targets.cuda()\n",
        "\n",
        "                    output, val_h = net(inputs, val_h)\n",
        "                    val_loss = criterion(output, targets.view(batch_size*seq_length).long())\n",
        "                \n",
        "                    val_losses.append(val_loss.item())\n",
        "                \n",
        "                net.train() # reset to train mode after iterationg through validation data\n",
        "                \n",
        "                print(\"Epoch: {}/{}...\".format(e+1, epochs),\n",
        "                      \"Step: {}...\".format(counter),\n",
        "                      \"Loss: {:.4f}...\".format(loss.item()),\n",
        "                      \"Val Loss: {:.4f}\".format(np.mean(val_losses)))"
      ],
      "execution_count": 0,
      "outputs": []
    },
    {
      "cell_type": "markdown",
      "metadata": {
        "id": "jd1k-BlyHS4v",
        "colab_type": "text"
      },
      "source": [
        "## Instantiating the model\n",
        "\n",
        "Now we can actually train the network. First we'll create the network itself, with some given hyperparameters. Then, define the mini-batches sizes, and start training!"
      ]
    },
    {
      "cell_type": "code",
      "metadata": {
        "id": "IAqjyUWdHS4x",
        "colab_type": "code",
        "colab": {
          "base_uri": "https://localhost:8080/",
          "height": 102
        },
        "outputId": "c885e66f-7b35-4490-dc6b-4c025e927b77"
      },
      "source": [
        "## TODO: set your model hyperparameters\n",
        "# define and print the net\n",
        "n_hidden=512\n",
        "n_layers=2\n",
        "\n",
        "net = CharRNN(chars, n_hidden, n_layers)\n",
        "print(net)"
      ],
      "execution_count": 52,
      "outputs": [
        {
          "output_type": "stream",
          "text": [
            "CharRNN(\n",
            "  (lstm): LSTM(83, 512, num_layers=2, batch_first=True, dropout=0.5)\n",
            "  (dropout): Dropout(p=0.5, inplace=False)\n",
            "  (fc): Linear(in_features=512, out_features=83, bias=True)\n",
            ")\n"
          ],
          "name": "stdout"
        }
      ]
    },
    {
      "cell_type": "markdown",
      "metadata": {
        "id": "rFNqQd5sHS40",
        "colab_type": "text"
      },
      "source": [
        "### Set your training hyperparameters!"
      ]
    },
    {
      "cell_type": "code",
      "metadata": {
        "scrolled": true,
        "id": "ahvNhHELHS40",
        "colab_type": "code",
        "colab": {
          "base_uri": "https://localhost:8080/",
          "height": 1000
        },
        "outputId": "22d43464-6006-4e3d-f297-62793b1a1114"
      },
      "source": [
        "batch_size = 128\n",
        "seq_length = 100\n",
        "n_epochs = 20 # start small if you are just testing initial behavior\n",
        "\n",
        "# train the model\n",
        "train(net, encoded, epochs=n_epochs, batch_size=batch_size, seq_length=seq_length, lr=0.001, print_every=10)"
      ],
      "execution_count": 53,
      "outputs": [
        {
          "output_type": "stream",
          "text": [
            "Epoch: 1/20... Step: 10... Loss: 3.2684... Val Loss: 3.2071\n",
            "Epoch: 1/20... Step: 20... Loss: 3.1566... Val Loss: 3.1346\n",
            "Epoch: 1/20... Step: 30... Loss: 3.1470... Val Loss: 3.1242\n",
            "Epoch: 1/20... Step: 40... Loss: 3.1169... Val Loss: 3.1190\n",
            "Epoch: 1/20... Step: 50... Loss: 3.1401... Val Loss: 3.1173\n",
            "Epoch: 1/20... Step: 60... Loss: 3.1211... Val Loss: 3.1148\n",
            "Epoch: 1/20... Step: 70... Loss: 3.1053... Val Loss: 3.1117\n",
            "Epoch: 1/20... Step: 80... Loss: 3.1168... Val Loss: 3.1030\n",
            "Epoch: 1/20... Step: 90... Loss: 3.1027... Val Loss: 3.0864\n",
            "Epoch: 1/20... Step: 100... Loss: 3.0549... Val Loss: 3.0391\n",
            "Epoch: 1/20... Step: 110... Loss: 2.9694... Val Loss: 2.9415\n",
            "Epoch: 1/20... Step: 120... Loss: 2.8343... Val Loss: 2.8456\n",
            "Epoch: 1/20... Step: 130... Loss: 2.7472... Val Loss: 2.7053\n",
            "Epoch: 2/20... Step: 140... Loss: 2.6546... Val Loss: 2.6154\n",
            "Epoch: 2/20... Step: 150... Loss: 2.6062... Val Loss: 2.5613\n",
            "Epoch: 2/20... Step: 160... Loss: 2.5456... Val Loss: 2.5049\n",
            "Epoch: 2/20... Step: 170... Loss: 2.4814... Val Loss: 2.4613\n",
            "Epoch: 2/20... Step: 180... Loss: 2.4510... Val Loss: 2.4267\n",
            "Epoch: 2/20... Step: 190... Loss: 2.4002... Val Loss: 2.3963\n",
            "Epoch: 2/20... Step: 200... Loss: 2.3910... Val Loss: 2.3606\n",
            "Epoch: 2/20... Step: 210... Loss: 2.3649... Val Loss: 2.3319\n",
            "Epoch: 2/20... Step: 220... Loss: 2.3238... Val Loss: 2.2988\n",
            "Epoch: 2/20... Step: 230... Loss: 2.3193... Val Loss: 2.2716\n",
            "Epoch: 2/20... Step: 240... Loss: 2.2867... Val Loss: 2.2465\n",
            "Epoch: 2/20... Step: 250... Loss: 2.2244... Val Loss: 2.2196\n",
            "Epoch: 2/20... Step: 260... Loss: 2.1942... Val Loss: 2.1904\n",
            "Epoch: 2/20... Step: 270... Loss: 2.2037... Val Loss: 2.1686\n",
            "Epoch: 3/20... Step: 280... Loss: 2.1938... Val Loss: 2.1446\n",
            "Epoch: 3/20... Step: 290... Loss: 2.1644... Val Loss: 2.1221\n",
            "Epoch: 3/20... Step: 300... Loss: 2.1349... Val Loss: 2.1030\n",
            "Epoch: 3/20... Step: 310... Loss: 2.1091... Val Loss: 2.0814\n",
            "Epoch: 3/20... Step: 320... Loss: 2.0790... Val Loss: 2.0619\n",
            "Epoch: 3/20... Step: 330... Loss: 2.0450... Val Loss: 2.0465\n",
            "Epoch: 3/20... Step: 340... Loss: 2.0675... Val Loss: 2.0317\n",
            "Epoch: 3/20... Step: 350... Loss: 2.0551... Val Loss: 2.0100\n",
            "Epoch: 3/20... Step: 360... Loss: 1.9798... Val Loss: 1.9922\n",
            "Epoch: 3/20... Step: 370... Loss: 2.0132... Val Loss: 1.9761\n",
            "Epoch: 3/20... Step: 380... Loss: 1.9907... Val Loss: 1.9676\n",
            "Epoch: 3/20... Step: 390... Loss: 1.9619... Val Loss: 1.9500\n",
            "Epoch: 3/20... Step: 400... Loss: 1.9297... Val Loss: 1.9335\n",
            "Epoch: 3/20... Step: 410... Loss: 1.9524... Val Loss: 1.9219\n",
            "Epoch: 4/20... Step: 420... Loss: 1.9409... Val Loss: 1.9036\n",
            "Epoch: 4/20... Step: 430... Loss: 1.9198... Val Loss: 1.8884\n",
            "Epoch: 4/20... Step: 440... Loss: 1.9034... Val Loss: 1.8805\n",
            "Epoch: 4/20... Step: 450... Loss: 1.8583... Val Loss: 1.8665\n",
            "Epoch: 4/20... Step: 460... Loss: 1.8395... Val Loss: 1.8535\n",
            "Epoch: 4/20... Step: 470... Loss: 1.8779... Val Loss: 1.8501\n",
            "Epoch: 4/20... Step: 480... Loss: 1.8530... Val Loss: 1.8292\n",
            "Epoch: 4/20... Step: 490... Loss: 1.8559... Val Loss: 1.8207\n",
            "Epoch: 4/20... Step: 500... Loss: 1.8473... Val Loss: 1.8088\n",
            "Epoch: 4/20... Step: 510... Loss: 1.8229... Val Loss: 1.7955\n",
            "Epoch: 4/20... Step: 520... Loss: 1.8363... Val Loss: 1.7858\n",
            "Epoch: 4/20... Step: 530... Loss: 1.7992... Val Loss: 1.7807\n",
            "Epoch: 4/20... Step: 540... Loss: 1.7683... Val Loss: 1.7713\n",
            "Epoch: 4/20... Step: 550... Loss: 1.8134... Val Loss: 1.7548\n",
            "Epoch: 5/20... Step: 560... Loss: 1.7725... Val Loss: 1.7462\n",
            "Epoch: 5/20... Step: 570... Loss: 1.7615... Val Loss: 1.7388\n",
            "Epoch: 5/20... Step: 580... Loss: 1.7378... Val Loss: 1.7287\n",
            "Epoch: 5/20... Step: 590... Loss: 1.7421... Val Loss: 1.7204\n",
            "Epoch: 5/20... Step: 600... Loss: 1.7201... Val Loss: 1.7150\n",
            "Epoch: 5/20... Step: 610... Loss: 1.7140... Val Loss: 1.7099\n",
            "Epoch: 5/20... Step: 620... Loss: 1.7095... Val Loss: 1.7029\n",
            "Epoch: 5/20... Step: 630... Loss: 1.7349... Val Loss: 1.6902\n",
            "Epoch: 5/20... Step: 640... Loss: 1.6993... Val Loss: 1.6848\n",
            "Epoch: 5/20... Step: 650... Loss: 1.6864... Val Loss: 1.6755\n",
            "Epoch: 5/20... Step: 660... Loss: 1.6645... Val Loss: 1.6729\n",
            "Epoch: 5/20... Step: 670... Loss: 1.6898... Val Loss: 1.6666\n",
            "Epoch: 5/20... Step: 680... Loss: 1.6842... Val Loss: 1.6600\n",
            "Epoch: 5/20... Step: 690... Loss: 1.6591... Val Loss: 1.6521\n",
            "Epoch: 6/20... Step: 700... Loss: 1.6646... Val Loss: 1.6432\n",
            "Epoch: 6/20... Step: 710... Loss: 1.6506... Val Loss: 1.6447\n",
            "Epoch: 6/20... Step: 720... Loss: 1.6358... Val Loss: 1.6336\n",
            "Epoch: 6/20... Step: 730... Loss: 1.6479... Val Loss: 1.6271\n",
            "Epoch: 6/20... Step: 740... Loss: 1.6231... Val Loss: 1.6234\n",
            "Epoch: 6/20... Step: 750... Loss: 1.5944... Val Loss: 1.6177\n",
            "Epoch: 6/20... Step: 760... Loss: 1.6357... Val Loss: 1.6100\n",
            "Epoch: 6/20... Step: 770... Loss: 1.6164... Val Loss: 1.6046\n",
            "Epoch: 6/20... Step: 780... Loss: 1.6008... Val Loss: 1.5994\n",
            "Epoch: 6/20... Step: 790... Loss: 1.5861... Val Loss: 1.5948\n",
            "Epoch: 6/20... Step: 800... Loss: 1.6027... Val Loss: 1.5912\n",
            "Epoch: 6/20... Step: 810... Loss: 1.6012... Val Loss: 1.5863\n",
            "Epoch: 6/20... Step: 820... Loss: 1.5498... Val Loss: 1.5822\n",
            "Epoch: 6/20... Step: 830... Loss: 1.5997... Val Loss: 1.5746\n",
            "Epoch: 7/20... Step: 840... Loss: 1.5559... Val Loss: 1.5733\n",
            "Epoch: 7/20... Step: 850... Loss: 1.5657... Val Loss: 1.5708\n",
            "Epoch: 7/20... Step: 860... Loss: 1.5569... Val Loss: 1.5605\n",
            "Epoch: 7/20... Step: 870... Loss: 1.5647... Val Loss: 1.5564\n",
            "Epoch: 7/20... Step: 880... Loss: 1.5663... Val Loss: 1.5552\n",
            "Epoch: 7/20... Step: 890... Loss: 1.5614... Val Loss: 1.5506\n",
            "Epoch: 7/20... Step: 900... Loss: 1.5326... Val Loss: 1.5508\n",
            "Epoch: 7/20... Step: 910... Loss: 1.5162... Val Loss: 1.5420\n",
            "Epoch: 7/20... Step: 920... Loss: 1.5380... Val Loss: 1.5366\n",
            "Epoch: 7/20... Step: 930... Loss: 1.5294... Val Loss: 1.5376\n",
            "Epoch: 7/20... Step: 940... Loss: 1.5351... Val Loss: 1.5306\n",
            "Epoch: 7/20... Step: 950... Loss: 1.5350... Val Loss: 1.5268\n",
            "Epoch: 7/20... Step: 960... Loss: 1.5344... Val Loss: 1.5269\n",
            "Epoch: 7/20... Step: 970... Loss: 1.5419... Val Loss: 1.5159\n",
            "Epoch: 8/20... Step: 980... Loss: 1.5141... Val Loss: 1.5199\n",
            "Epoch: 8/20... Step: 990... Loss: 1.5144... Val Loss: 1.5114\n",
            "Epoch: 8/20... Step: 1000... Loss: 1.5138... Val Loss: 1.5060\n",
            "Epoch: 8/20... Step: 1010... Loss: 1.5427... Val Loss: 1.5033\n",
            "Epoch: 8/20... Step: 1020... Loss: 1.5156... Val Loss: 1.5004\n",
            "Epoch: 8/20... Step: 1030... Loss: 1.4967... Val Loss: 1.4966\n",
            "Epoch: 8/20... Step: 1040... Loss: 1.5163... Val Loss: 1.4970\n",
            "Epoch: 8/20... Step: 1050... Loss: 1.4771... Val Loss: 1.4932\n",
            "Epoch: 8/20... Step: 1060... Loss: 1.4889... Val Loss: 1.4898\n",
            "Epoch: 8/20... Step: 1070... Loss: 1.4980... Val Loss: 1.4857\n",
            "Epoch: 8/20... Step: 1080... Loss: 1.4870... Val Loss: 1.4842\n",
            "Epoch: 8/20... Step: 1090... Loss: 1.4768... Val Loss: 1.4812\n",
            "Epoch: 8/20... Step: 1100... Loss: 1.4672... Val Loss: 1.4764\n",
            "Epoch: 8/20... Step: 1110... Loss: 1.4683... Val Loss: 1.4726\n",
            "Epoch: 9/20... Step: 1120... Loss: 1.4977... Val Loss: 1.4697\n",
            "Epoch: 9/20... Step: 1130... Loss: 1.4760... Val Loss: 1.4694\n",
            "Epoch: 9/20... Step: 1140... Loss: 1.4847... Val Loss: 1.4650\n",
            "Epoch: 9/20... Step: 1150... Loss: 1.4858... Val Loss: 1.4623\n",
            "Epoch: 9/20... Step: 1160... Loss: 1.4431... Val Loss: 1.4609\n",
            "Epoch: 9/20... Step: 1170... Loss: 1.4578... Val Loss: 1.4603\n",
            "Epoch: 9/20... Step: 1180... Loss: 1.4534... Val Loss: 1.4587\n",
            "Epoch: 9/20... Step: 1190... Loss: 1.4792... Val Loss: 1.4542\n",
            "Epoch: 9/20... Step: 1200... Loss: 1.4252... Val Loss: 1.4493\n",
            "Epoch: 9/20... Step: 1210... Loss: 1.4408... Val Loss: 1.4486\n",
            "Epoch: 9/20... Step: 1220... Loss: 1.4484... Val Loss: 1.4472\n",
            "Epoch: 9/20... Step: 1230... Loss: 1.4235... Val Loss: 1.4459\n",
            "Epoch: 9/20... Step: 1240... Loss: 1.4340... Val Loss: 1.4440\n",
            "Epoch: 9/20... Step: 1250... Loss: 1.4377... Val Loss: 1.4384\n",
            "Epoch: 10/20... Step: 1260... Loss: 1.4441... Val Loss: 1.4400\n",
            "Epoch: 10/20... Step: 1270... Loss: 1.4394... Val Loss: 1.4349\n",
            "Epoch: 10/20... Step: 1280... Loss: 1.4481... Val Loss: 1.4357\n",
            "Epoch: 10/20... Step: 1290... Loss: 1.4375... Val Loss: 1.4352\n",
            "Epoch: 10/20... Step: 1300... Loss: 1.4261... Val Loss: 1.4317\n",
            "Epoch: 10/20... Step: 1310... Loss: 1.4346... Val Loss: 1.4261\n",
            "Epoch: 10/20... Step: 1320... Loss: 1.4032... Val Loss: 1.4266\n",
            "Epoch: 10/20... Step: 1330... Loss: 1.4119... Val Loss: 1.4254\n",
            "Epoch: 10/20... Step: 1340... Loss: 1.4066... Val Loss: 1.4236\n",
            "Epoch: 10/20... Step: 1350... Loss: 1.3906... Val Loss: 1.4212\n",
            "Epoch: 10/20... Step: 1360... Loss: 1.3870... Val Loss: 1.4208\n",
            "Epoch: 10/20... Step: 1370... Loss: 1.3843... Val Loss: 1.4195\n",
            "Epoch: 10/20... Step: 1380... Loss: 1.4278... Val Loss: 1.4148\n",
            "Epoch: 10/20... Step: 1390... Loss: 1.4337... Val Loss: 1.4135\n",
            "Epoch: 11/20... Step: 1400... Loss: 1.4394... Val Loss: 1.4150\n",
            "Epoch: 11/20... Step: 1410... Loss: 1.4353... Val Loss: 1.4129\n",
            "Epoch: 11/20... Step: 1420... Loss: 1.4288... Val Loss: 1.4081\n",
            "Epoch: 11/20... Step: 1430... Loss: 1.3922... Val Loss: 1.4083\n",
            "Epoch: 11/20... Step: 1440... Loss: 1.4167... Val Loss: 1.4061\n",
            "Epoch: 11/20... Step: 1450... Loss: 1.3547... Val Loss: 1.4014\n",
            "Epoch: 11/20... Step: 1460... Loss: 1.3767... Val Loss: 1.4022\n",
            "Epoch: 11/20... Step: 1470... Loss: 1.3739... Val Loss: 1.4004\n",
            "Epoch: 11/20... Step: 1480... Loss: 1.3940... Val Loss: 1.3982\n",
            "Epoch: 11/20... Step: 1490... Loss: 1.3742... Val Loss: 1.3978\n",
            "Epoch: 11/20... Step: 1500... Loss: 1.3709... Val Loss: 1.3973\n",
            "Epoch: 11/20... Step: 1510... Loss: 1.3508... Val Loss: 1.3987\n",
            "Epoch: 11/20... Step: 1520... Loss: 1.3856... Val Loss: 1.3912\n",
            "Epoch: 12/20... Step: 1530... Loss: 1.4469... Val Loss: 1.3925\n",
            "Epoch: 12/20... Step: 1540... Loss: 1.4022... Val Loss: 1.3923\n",
            "Epoch: 12/20... Step: 1550... Loss: 1.3885... Val Loss: 1.3877\n",
            "Epoch: 12/20... Step: 1560... Loss: 1.4071... Val Loss: 1.3849\n",
            "Epoch: 12/20... Step: 1570... Loss: 1.3572... Val Loss: 1.3866\n",
            "Epoch: 12/20... Step: 1580... Loss: 1.3307... Val Loss: 1.3850\n",
            "Epoch: 12/20... Step: 1590... Loss: 1.3291... Val Loss: 1.3801\n",
            "Epoch: 12/20... Step: 1600... Loss: 1.3540... Val Loss: 1.3800\n",
            "Epoch: 12/20... Step: 1610... Loss: 1.3473... Val Loss: 1.3780\n",
            "Epoch: 12/20... Step: 1620... Loss: 1.3520... Val Loss: 1.3766\n",
            "Epoch: 12/20... Step: 1630... Loss: 1.3729... Val Loss: 1.3786\n",
            "Epoch: 12/20... Step: 1640... Loss: 1.3451... Val Loss: 1.3783\n",
            "Epoch: 12/20... Step: 1650... Loss: 1.3230... Val Loss: 1.3825\n",
            "Epoch: 12/20... Step: 1660... Loss: 1.3762... Val Loss: 1.3764\n",
            "Epoch: 13/20... Step: 1670... Loss: 1.3443... Val Loss: 1.3785\n",
            "Epoch: 13/20... Step: 1680... Loss: 1.3678... Val Loss: 1.3739\n",
            "Epoch: 13/20... Step: 1690... Loss: 1.3375... Val Loss: 1.3684\n",
            "Epoch: 13/20... Step: 1700... Loss: 1.3471... Val Loss: 1.3680\n",
            "Epoch: 13/20... Step: 1710... Loss: 1.3131... Val Loss: 1.3734\n",
            "Epoch: 13/20... Step: 1720... Loss: 1.3244... Val Loss: 1.3702\n",
            "Epoch: 13/20... Step: 1730... Loss: 1.3643... Val Loss: 1.3617\n",
            "Epoch: 13/20... Step: 1740... Loss: 1.3254... Val Loss: 1.3667\n",
            "Epoch: 13/20... Step: 1750... Loss: 1.3065... Val Loss: 1.3686\n",
            "Epoch: 13/20... Step: 1760... Loss: 1.3330... Val Loss: 1.3590\n",
            "Epoch: 13/20... Step: 1770... Loss: 1.3484... Val Loss: 1.3625\n",
            "Epoch: 13/20... Step: 1780... Loss: 1.3292... Val Loss: 1.3602\n",
            "Epoch: 13/20... Step: 1790... Loss: 1.3104... Val Loss: 1.3641\n",
            "Epoch: 13/20... Step: 1800... Loss: 1.3381... Val Loss: 1.3573\n",
            "Epoch: 14/20... Step: 1810... Loss: 1.3359... Val Loss: 1.3606\n",
            "Epoch: 14/20... Step: 1820... Loss: 1.3284... Val Loss: 1.3571\n",
            "Epoch: 14/20... Step: 1830... Loss: 1.3486... Val Loss: 1.3545\n",
            "Epoch: 14/20... Step: 1840... Loss: 1.2914... Val Loss: 1.3580\n",
            "Epoch: 14/20... Step: 1850... Loss: 1.2763... Val Loss: 1.3580\n",
            "Epoch: 14/20... Step: 1860... Loss: 1.3297... Val Loss: 1.3536\n",
            "Epoch: 14/20... Step: 1870... Loss: 1.3382... Val Loss: 1.3505\n",
            "Epoch: 14/20... Step: 1880... Loss: 1.3230... Val Loss: 1.3520\n",
            "Epoch: 14/20... Step: 1890... Loss: 1.3349... Val Loss: 1.3484\n",
            "Epoch: 14/20... Step: 1900... Loss: 1.3153... Val Loss: 1.3498\n",
            "Epoch: 14/20... Step: 1910... Loss: 1.3235... Val Loss: 1.3492\n",
            "Epoch: 14/20... Step: 1920... Loss: 1.3185... Val Loss: 1.3448\n",
            "Epoch: 14/20... Step: 1930... Loss: 1.2854... Val Loss: 1.3506\n",
            "Epoch: 14/20... Step: 1940... Loss: 1.3366... Val Loss: 1.3420\n",
            "Epoch: 15/20... Step: 1950... Loss: 1.3046... Val Loss: 1.3464\n",
            "Epoch: 15/20... Step: 1960... Loss: 1.3161... Val Loss: 1.3438\n",
            "Epoch: 15/20... Step: 1970... Loss: 1.3024... Val Loss: 1.3408\n",
            "Epoch: 15/20... Step: 1980... Loss: 1.2914... Val Loss: 1.3425\n",
            "Epoch: 15/20... Step: 1990... Loss: 1.2882... Val Loss: 1.3424\n",
            "Epoch: 15/20... Step: 2000... Loss: 1.2739... Val Loss: 1.3424\n",
            "Epoch: 15/20... Step: 2010... Loss: 1.2960... Val Loss: 1.3361\n",
            "Epoch: 15/20... Step: 2020... Loss: 1.3227... Val Loss: 1.3358\n",
            "Epoch: 15/20... Step: 2030... Loss: 1.2894... Val Loss: 1.3394\n",
            "Epoch: 15/20... Step: 2040... Loss: 1.3001... Val Loss: 1.3359\n",
            "Epoch: 15/20... Step: 2050... Loss: 1.2815... Val Loss: 1.3362\n",
            "Epoch: 15/20... Step: 2060... Loss: 1.2950... Val Loss: 1.3329\n",
            "Epoch: 15/20... Step: 2070... Loss: 1.3037... Val Loss: 1.3324\n",
            "Epoch: 15/20... Step: 2080... Loss: 1.2922... Val Loss: 1.3305\n",
            "Epoch: 16/20... Step: 2090... Loss: 1.2975... Val Loss: 1.3314\n",
            "Epoch: 16/20... Step: 2100... Loss: 1.2812... Val Loss: 1.3247\n",
            "Epoch: 16/20... Step: 2110... Loss: 1.2798... Val Loss: 1.3250\n",
            "Epoch: 16/20... Step: 2120... Loss: 1.2813... Val Loss: 1.3248\n",
            "Epoch: 16/20... Step: 2130... Loss: 1.2604... Val Loss: 1.3284\n",
            "Epoch: 16/20... Step: 2140... Loss: 1.2767... Val Loss: 1.3258\n",
            "Epoch: 16/20... Step: 2150... Loss: 1.2960... Val Loss: 1.3211\n",
            "Epoch: 16/20... Step: 2160... Loss: 1.2698... Val Loss: 1.3204\n",
            "Epoch: 16/20... Step: 2170... Loss: 1.2755... Val Loss: 1.3188\n",
            "Epoch: 16/20... Step: 2180... Loss: 1.2665... Val Loss: 1.3157\n",
            "Epoch: 16/20... Step: 2190... Loss: 1.2864... Val Loss: 1.3159\n",
            "Epoch: 16/20... Step: 2200... Loss: 1.2620... Val Loss: 1.3128\n",
            "Epoch: 16/20... Step: 2210... Loss: 1.2262... Val Loss: 1.3153\n",
            "Epoch: 16/20... Step: 2220... Loss: 1.2732... Val Loss: 1.3159\n",
            "Epoch: 17/20... Step: 2230... Loss: 1.2448... Val Loss: 1.3138\n",
            "Epoch: 17/20... Step: 2240... Loss: 1.2661... Val Loss: 1.3125\n",
            "Epoch: 17/20... Step: 2250... Loss: 1.2454... Val Loss: 1.3059\n",
            "Epoch: 17/20... Step: 2260... Loss: 1.2544... Val Loss: 1.3101\n",
            "Epoch: 17/20... Step: 2270... Loss: 1.2695... Val Loss: 1.3083\n",
            "Epoch: 17/20... Step: 2280... Loss: 1.2675... Val Loss: 1.3062\n",
            "Epoch: 17/20... Step: 2290... Loss: 1.2590... Val Loss: 1.3028\n",
            "Epoch: 17/20... Step: 2300... Loss: 1.2329... Val Loss: 1.3033\n",
            "Epoch: 17/20... Step: 2310... Loss: 1.2518... Val Loss: 1.3076\n",
            "Epoch: 17/20... Step: 2320... Loss: 1.2492... Val Loss: 1.3012\n",
            "Epoch: 17/20... Step: 2330... Loss: 1.2553... Val Loss: 1.3065\n",
            "Epoch: 17/20... Step: 2340... Loss: 1.2641... Val Loss: 1.3029\n",
            "Epoch: 17/20... Step: 2350... Loss: 1.2667... Val Loss: 1.3013\n",
            "Epoch: 17/20... Step: 2360... Loss: 1.2637... Val Loss: 1.3002\n",
            "Epoch: 18/20... Step: 2370... Loss: 1.2358... Val Loss: 1.2996\n",
            "Epoch: 18/20... Step: 2380... Loss: 1.2375... Val Loss: 1.2969\n",
            "Epoch: 18/20... Step: 2390... Loss: 1.2423... Val Loss: 1.3054\n",
            "Epoch: 18/20... Step: 2400... Loss: 1.2720... Val Loss: 1.2977\n",
            "Epoch: 18/20... Step: 2410... Loss: 1.2541... Val Loss: 1.3012\n",
            "Epoch: 18/20... Step: 2420... Loss: 1.2507... Val Loss: 1.2982\n",
            "Epoch: 18/20... Step: 2430... Loss: 1.2519... Val Loss: 1.2950\n",
            "Epoch: 18/20... Step: 2440... Loss: 1.2374... Val Loss: 1.2945\n",
            "Epoch: 18/20... Step: 2450... Loss: 1.2185... Val Loss: 1.2977\n",
            "Epoch: 18/20... Step: 2460... Loss: 1.2411... Val Loss: 1.2964\n",
            "Epoch: 18/20... Step: 2470... Loss: 1.2432... Val Loss: 1.2947\n",
            "Epoch: 18/20... Step: 2480... Loss: 1.2266... Val Loss: 1.2955\n",
            "Epoch: 18/20... Step: 2490... Loss: 1.2248... Val Loss: 1.2968\n",
            "Epoch: 18/20... Step: 2500... Loss: 1.2344... Val Loss: 1.2982\n",
            "Epoch: 19/20... Step: 2510... Loss: 1.2346... Val Loss: 1.2968\n",
            "Epoch: 19/20... Step: 2520... Loss: 1.2441... Val Loss: 1.2857\n",
            "Epoch: 19/20... Step: 2530... Loss: 1.2519... Val Loss: 1.2850\n",
            "Epoch: 19/20... Step: 2540... Loss: 1.2490... Val Loss: 1.2905\n",
            "Epoch: 19/20... Step: 2550... Loss: 1.2221... Val Loss: 1.2898\n",
            "Epoch: 19/20... Step: 2560... Loss: 1.2305... Val Loss: 1.2858\n",
            "Epoch: 19/20... Step: 2570... Loss: 1.2215... Val Loss: 1.2875\n",
            "Epoch: 19/20... Step: 2580... Loss: 1.2487... Val Loss: 1.2878\n",
            "Epoch: 19/20... Step: 2590... Loss: 1.2096... Val Loss: 1.2845\n",
            "Epoch: 19/20... Step: 2600... Loss: 1.2121... Val Loss: 1.2834\n",
            "Epoch: 19/20... Step: 2610... Loss: 1.2253... Val Loss: 1.2850\n",
            "Epoch: 19/20... Step: 2620... Loss: 1.2000... Val Loss: 1.2829\n",
            "Epoch: 19/20... Step: 2630... Loss: 1.2070... Val Loss: 1.2844\n",
            "Epoch: 19/20... Step: 2640... Loss: 1.2293... Val Loss: 1.2864\n",
            "Epoch: 20/20... Step: 2650... Loss: 1.2291... Val Loss: 1.2792\n",
            "Epoch: 20/20... Step: 2660... Loss: 1.2208... Val Loss: 1.2798\n",
            "Epoch: 20/20... Step: 2670... Loss: 1.2414... Val Loss: 1.2803\n",
            "Epoch: 20/20... Step: 2680... Loss: 1.2214... Val Loss: 1.2796\n",
            "Epoch: 20/20... Step: 2690... Loss: 1.2142... Val Loss: 1.2827\n",
            "Epoch: 20/20... Step: 2700... Loss: 1.2258... Val Loss: 1.2827\n",
            "Epoch: 20/20... Step: 2710... Loss: 1.1909... Val Loss: 1.2783\n",
            "Epoch: 20/20... Step: 2720... Loss: 1.1992... Val Loss: 1.2815\n",
            "Epoch: 20/20... Step: 2730... Loss: 1.1907... Val Loss: 1.2833\n",
            "Epoch: 20/20... Step: 2740... Loss: 1.1960... Val Loss: 1.2764\n",
            "Epoch: 20/20... Step: 2750... Loss: 1.1953... Val Loss: 1.2791\n",
            "Epoch: 20/20... Step: 2760... Loss: 1.1974... Val Loss: 1.2767\n",
            "Epoch: 20/20... Step: 2770... Loss: 1.2309... Val Loss: 1.2789\n",
            "Epoch: 20/20... Step: 2780... Loss: 1.2560... Val Loss: 1.2792\n"
          ],
          "name": "stdout"
        }
      ]
    },
    {
      "cell_type": "markdown",
      "metadata": {
        "id": "R-WJpYg0HS45",
        "colab_type": "text"
      },
      "source": [
        "## Getting the best model\n",
        "\n",
        "To set your hyperparameters to get the best performance, you'll want to watch the training and validation losses. If your training loss is much lower than the validation loss, you're overfitting. Increase regularization (more dropout) or use a smaller network. If the training and validation losses are close, you're underfitting so you can increase the size of the network."
      ]
    },
    {
      "cell_type": "markdown",
      "metadata": {
        "id": "HIrgzhYcHS46",
        "colab_type": "text"
      },
      "source": [
        "## Hyperparameters\n",
        "\n",
        "Here are the hyperparameters for the network.\n",
        "\n",
        "In defining the model:\n",
        "* `n_hidden` - The number of units in the hidden layers.\n",
        "* `n_layers` - Number of hidden LSTM layers to use.\n",
        "\n",
        "We assume that dropout probability and learning rate will be kept at the default, in this example.\n",
        "\n",
        "And in training:\n",
        "* `batch_size` - Number of sequences running through the network in one pass.\n",
        "* `seq_length` - Number of characters in the sequence the network is trained on. Larger is better typically, the network will learn more long range dependencies. But it takes longer to train. 100 is typically a good number here.\n",
        "* `lr` - Learning rate for training\n",
        "\n",
        "Here's some good advice from Andrej Karpathy on training the network. I'm going to copy it in here for your benefit, but also link to [where it originally came from](https://github.com/karpathy/char-rnn#tips-and-tricks).\n",
        "\n",
        "> ## Tips and Tricks\n",
        "\n",
        ">### Monitoring Validation Loss vs. Training Loss\n",
        ">If you're somewhat new to Machine Learning or Neural Networks it can take a bit of expertise to get good models. The most important quantity to keep track of is the difference between your training loss (printed during training) and the validation loss (printed once in a while when the RNN is run on the validation data (by default every 1000 iterations)). In particular:\n",
        "\n",
        "> - If your training loss is much lower than validation loss then this means the network might be **overfitting**. Solutions to this are to decrease your network size, or to increase dropout. For example you could try dropout of 0.5 and so on.\n",
        "> - If your training/validation loss are about equal then your model is **underfitting**. Increase the size of your model (either number of layers or the raw number of neurons per layer)\n",
        "\n",
        "> ### Approximate number of parameters\n",
        "\n",
        "> The two most important parameters that control the model are `n_hidden` and `n_layers`. I would advise that you always use `n_layers` of either 2/3. The `n_hidden` can be adjusted based on how much data you have. The two important quantities to keep track of here are:\n",
        "\n",
        "> - The number of parameters in your model. This is printed when you start training.\n",
        "> - The size of your dataset. 1MB file is approximately 1 million characters.\n",
        "\n",
        ">These two should be about the same order of magnitude. It's a little tricky to tell. Here are some examples:\n",
        "\n",
        "> - I have a 100MB dataset and I'm using the default parameter settings (which currently print 150K parameters). My data size is significantly larger (100 mil >> 0.15 mil), so I expect to heavily underfit. I am thinking I can comfortably afford to make `n_hidden` larger.\n",
        "> - I have a 10MB dataset and running a 10 million parameter model. I'm slightly nervous and I'm carefully monitoring my validation loss. If it's larger than my training loss then I may want to try to increase dropout a bit and see if that helps the validation loss.\n",
        "\n",
        "> ### Best models strategy\n",
        "\n",
        ">The winning strategy to obtaining very good models (if you have the compute time) is to always err on making the network larger (as large as you're willing to wait for it to compute) and then try different dropout values (between 0,1). Whatever model has the best validation performance (the loss, written in the checkpoint filename, low is good) is the one you should use in the end.\n",
        "\n",
        ">It is very common in deep learning to run many different models with many different hyperparameter settings, and in the end take whatever checkpoint gave the best validation performance.\n",
        "\n",
        ">By the way, the size of your training and validation splits are also parameters. Make sure you have a decent amount of data in your validation set or otherwise the validation performance will be noisy and not very informative."
      ]
    },
    {
      "cell_type": "markdown",
      "metadata": {
        "id": "BQUU_5EyHS47",
        "colab_type": "text"
      },
      "source": [
        "## Checkpoint\n",
        "\n",
        "After training, we'll save the model so we can load it again later if we need too. Here I'm saving the parameters needed to create the same architecture, the hidden layer hyperparameters and the text characters."
      ]
    },
    {
      "cell_type": "code",
      "metadata": {
        "id": "OCwQ0yOGHS48",
        "colab_type": "code",
        "colab": {}
      },
      "source": [
        "# change the name, for saving multiple files\n",
        "model_name = 'rnn_x_epoch.net'\n",
        "\n",
        "checkpoint = {'n_hidden': net.n_hidden,\n",
        "              'n_layers': net.n_layers,\n",
        "              'state_dict': net.state_dict(),\n",
        "              'tokens': net.chars}\n",
        "\n",
        "with open(model_name, 'wb') as f:\n",
        "    torch.save(checkpoint, f)"
      ],
      "execution_count": 0,
      "outputs": []
    },
    {
      "cell_type": "markdown",
      "metadata": {
        "id": "Mqh57MmlHS4_",
        "colab_type": "text"
      },
      "source": [
        "---\n",
        "## Making Predictions\n",
        "\n",
        "Now that the model is trained, we'll want to sample from it and make predictions about next characters! To sample, we pass in a character and have the network predict the next character. Then we take that character, pass it back in, and get another predicted character. Just keep doing this and you'll generate a bunch of text!\n",
        "\n",
        "### A note on the `predict`  function\n",
        "\n",
        "The output of our RNN is from a fully-connected layer and it outputs a **distribution of next-character scores**.\n",
        "\n",
        "> To actually get the next character, we apply a softmax function, which gives us a *probability* distribution that we can then sample to predict the next character.\n",
        "\n",
        "### Top K sampling\n",
        "\n",
        "Our predictions come from a categorical probability distribution over all the possible characters. We can make the sample text and make it more reasonable to handle (with less variables) by only considering some $K$ most probable characters. This will prevent the network from giving us completely absurd characters while allowing it to introduce some noise and randomness into the sampled text. Read more about [topk, here](https://pytorch.org/docs/stable/torch.html#torch.topk).\n"
      ]
    },
    {
      "cell_type": "code",
      "metadata": {
        "id": "yNniPNKGHS5A",
        "colab_type": "code",
        "colab": {}
      },
      "source": [
        "def predict(net, char, h=None, top_k=None):\n",
        "        ''' Given a character, predict the next character.\n",
        "            Returns the predicted character and the hidden state.\n",
        "        '''\n",
        "        \n",
        "        # tensor inputs\n",
        "        x = np.array([[net.char2int[char]]])\n",
        "        x = one_hot_encode(x, len(net.chars))\n",
        "        inputs = torch.from_numpy(x)\n",
        "        \n",
        "        if(train_on_gpu):\n",
        "            inputs = inputs.cuda()\n",
        "        \n",
        "        # detach hidden state from history\n",
        "        h = tuple([each.data for each in h])\n",
        "        # get the output of the model\n",
        "        out, h = net(inputs, h)\n",
        "\n",
        "        # get the character probabilities\n",
        "        p = F.softmax(out, dim=1).data\n",
        "        if(train_on_gpu):\n",
        "            p = p.cpu() # move to cpu\n",
        "        \n",
        "        # get top characters\n",
        "        if top_k is None:\n",
        "            top_ch = np.arange(len(net.chars))\n",
        "        else:\n",
        "            p, top_ch = p.topk(top_k)\n",
        "            top_ch = top_ch.numpy().squeeze()\n",
        "        \n",
        "        # select the likely next character with some element of randomness\n",
        "        p = p.numpy().squeeze()\n",
        "        char = np.random.choice(top_ch, p=p/p.sum())\n",
        "        \n",
        "        # return the encoded value of the predicted char and the hidden state\n",
        "        return net.int2char[char], h"
      ],
      "execution_count": 0,
      "outputs": []
    },
    {
      "cell_type": "markdown",
      "metadata": {
        "id": "RWY8sSlnHS5C",
        "colab_type": "text"
      },
      "source": [
        "### Priming and generating text \n",
        "\n",
        "Typically you'll want to prime the network so you can build up a hidden state. Otherwise the network will start out generating characters at random. In general the first bunch of characters will be a little rough since it hasn't built up a long history of characters to predict from."
      ]
    },
    {
      "cell_type": "code",
      "metadata": {
        "id": "k2StjwFJHS5D",
        "colab_type": "code",
        "colab": {}
      },
      "source": [
        "def sample(net, size, prime='The', top_k=None):\n",
        "        \n",
        "    if(train_on_gpu):\n",
        "        net.cuda()\n",
        "    else:\n",
        "        net.cpu()\n",
        "    \n",
        "    net.eval() # eval mode\n",
        "    \n",
        "    # First off, run through the prime characters\n",
        "    chars = [ch for ch in prime]\n",
        "    h = net.init_hidden(1)\n",
        "    for ch in prime:\n",
        "        char, h = predict(net, ch, h, top_k=top_k)\n",
        "\n",
        "    chars.append(char)\n",
        "    \n",
        "    # Now pass in the previous character and get a new one\n",
        "    for ii in range(size):\n",
        "        char, h = predict(net, chars[-1], h, top_k=top_k)\n",
        "        chars.append(char)\n",
        "\n",
        "    return ''.join(chars)"
      ],
      "execution_count": 0,
      "outputs": []
    },
    {
      "cell_type": "code",
      "metadata": {
        "id": "tFE0B7aoHS5H",
        "colab_type": "code",
        "colab": {
          "base_uri": "https://localhost:8080/",
          "height": 357
        },
        "outputId": "5b25c87d-9904-4d98-f68d-057d8ef2309c"
      },
      "source": [
        "print(sample(net, 1000, prime='Anna', top_k=5))"
      ],
      "execution_count": 58,
      "outputs": [
        {
          "output_type": "stream",
          "text": [
            "Anna.\n",
            "\n",
            "\"We'll see the point, there are so much as soon and seen you, and the position\n",
            "was something,\" said Stepan Arkadyevitch.\n",
            "\n",
            "\"I've coller our sorry an orest of the carriage, and I\n",
            "did told the teachers, and she doesn't, I say all the misuse this meeting. And the more\n",
            "while's being starting. I should have some table.\"\n",
            "\n",
            "\"Yes,\" said the princess, \"because her missed.\"\n",
            "\n",
            "\"No, I dressed any sort, and then, and to truth!\" said Stepan Arkadyevitch, and\n",
            "those the more stood stood. \"You means it?\" he said, lifiing himself in, at the party\n",
            "was so might be a complete signed towards the men to strong that it was no strain\n",
            "what's energy, as he with the pared and sensional care to the common\n",
            "ordinary womon, there were to the sound of her back and with had and saying that his face, which\n",
            "they were a matter first and chescall, too, and wanded it and stopped, and\n",
            "watch with a smile of the starring officer, was so much as the position\n",
            "of his compasionances. To say to himself, she could not see him, but\n",
            "th\n"
          ],
          "name": "stdout"
        }
      ]
    },
    {
      "cell_type": "markdown",
      "metadata": {
        "id": "NXMXwJwyHS5K",
        "colab_type": "text"
      },
      "source": [
        "## Loading a checkpoint"
      ]
    },
    {
      "cell_type": "code",
      "metadata": {
        "id": "-waF6A5UHS5K",
        "colab_type": "code",
        "colab": {
          "base_uri": "https://localhost:8080/",
          "height": 34
        },
        "outputId": "417014ec-8a9f-4347-cea8-e2a10fef4cb6"
      },
      "source": [
        "# Here we have loaded in a model that trained over 20 epochs `rnn_20_epoch.net`\n",
        "with open('rnn_x_epoch.net', 'rb') as f:\n",
        "    checkpoint = torch.load(f)\n",
        "    \n",
        "loaded = CharRNN(checkpoint['tokens'], n_hidden=checkpoint['n_hidden'], n_layers=checkpoint['n_layers'])\n",
        "loaded.load_state_dict(checkpoint['state_dict'])"
      ],
      "execution_count": 59,
      "outputs": [
        {
          "output_type": "execute_result",
          "data": {
            "text/plain": [
              "<All keys matched successfully>"
            ]
          },
          "metadata": {
            "tags": []
          },
          "execution_count": 59
        }
      ]
    },
    {
      "cell_type": "code",
      "metadata": {
        "id": "I51Ux92zHS5P",
        "colab_type": "code",
        "colab": {
          "base_uri": "https://localhost:8080/",
          "height": 714
        },
        "outputId": "a2e22aff-932c-4754-bb4c-0ec8dd2ef8b0"
      },
      "source": [
        "# Sample using a loaded model\n",
        "print(sample(loaded, 2000, top_k=5, prime=\"And Levin said\"))"
      ],
      "execution_count": 60,
      "outputs": [
        {
          "output_type": "stream",
          "text": [
            "And Levin said to\n",
            "herself.\n",
            "\n",
            "\"What do you say is not to see it? You do not spring the soun, and\n",
            "that if it is an and that, I'm not time, to me in\n",
            "the country was, the string and conversation is in the\n",
            "way.\"\n",
            "\n",
            "\"No, some service is it a childring to me, and I can't talk about the princess, but it's\n",
            "to be done,\" said Alexey Alexandrovitch. \"Well, and the man,\" those weartalle\n",
            "smile and the country are strigged as so he was in his chateerism\n",
            "trees, and there winester this conversation, and heald already followe that\n",
            "there were not ang supposed and still began to stay and talked into\n",
            "the dack. Then's her house should be doctor.\n",
            "\n",
            "Her lifs. But when he had all these could happened to her.\n",
            "\n",
            "\"What do you take a left of it. We have never seen to her.\"\n",
            "\n",
            "\"Oh, you drank all the pirculs of them, but I have been a moment....\" she\n",
            "respinded the portrait of her still merely taight. Her son, with the\n",
            "conversation and the day.\n",
            "\n",
            "\"This is abusing their\n",
            "prinsess?\"\n",
            "\n",
            "\"I can't let the call and may answer. Though I do not, I shall never be the faint\n",
            "and man who had been answer. And he was a servants, because they've no clet\n",
            "where his, to be sounds and that how he should be astention to her, and\n",
            "then a left wanted to see it, and so that I cired to then about anything and\n",
            "the marshal of the position. And so, and to deceive him. Today will be so fell as is\n",
            "a freeling and more sorrow, but he was simply too, of what he had not seen\n",
            "her towards itself, when she had no discussion of his brother's comparison,\n",
            "hopely were silent, the misincationable man who had been a continual such oneself\n",
            "of a stalled, and still and some and half-boxt offered, and so in\n",
            "the choolest and to the sorrange to still seeing the children's chief shoulder.\n",
            "\n",
            "\"Ah! I would anything in the same meanicy of me with myself to her all that his\n",
            "face with him. I am still more as he came in the carest on their fine and\n",
            "at orgen to this, I can't be so suffliin, and the court are the present and\n",
            "souls. I'm angry for me!\" he said into the dringing, and \n"
          ],
          "name": "stdout"
        }
      ]
    },
    {
      "cell_type": "code",
      "metadata": {
        "id": "MG3tF5MrHS5V",
        "colab_type": "code",
        "colab": {}
      },
      "source": [
        ""
      ],
      "execution_count": 0,
      "outputs": []
    }
  ]
}